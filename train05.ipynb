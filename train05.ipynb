{
 "cells": [
  {
   "cell_type": "code",
   "execution_count": 1,
   "id": "2f9c0070-ef3c-4413-84e3-3656b1c7f26a",
   "metadata": {},
   "outputs": [],
   "source": [
    "import os\n",
    "\n",
    "os.environ[\"CUDA_VISIBLE_DEVICES\"]=\"0\""
   ]
  },
  {
   "cell_type": "code",
   "execution_count": 2,
   "id": "379af15d-5ca0-4eeb-bf93-e25e10d90366",
   "metadata": {},
   "outputs": [
    {
     "name": "stderr",
     "output_type": "stream",
     "text": [
      "/homec/xiaolei/anaconda3/envs/openmmlab/lib/python3.8/site-packages/tqdm/auto.py:21: TqdmWarning: IProgress not found. Please update jupyter and ipywidgets. See https://ipywidgets.readthedocs.io/en/stable/user_install.html\n",
      "  from .autonotebook import tqdm as notebook_tqdm\n"
     ]
    }
   ],
   "source": [
    "import torch\n",
    "import torch.nn as nn\n",
    "import timm\n",
    "from torchvision import transforms as Transforms\n",
    "import torch.nn.functional as F\n",
    "import os\n",
    "import cv2\n",
    "import matplotlib.pyplot as plt\n",
    "import numpy as np\n",
    "import random\n",
    "import os\n",
    "import glob\n",
    "import shutil\n",
    "from ultralytics import YOLO\n",
    "from PIL import Image\n",
    "import time\n",
    "from data_provider.data_factory import data_provider\n",
    "import argparse\n",
    "import torch.optim as optim\n",
    "import torch.multiprocessing as mp\n",
    "import math\n",
    "from tqdm import tqdm\n",
    "\n",
    "from config import get_config\n",
    "from optimizer import build_optimizer\n",
    "from lr_scheduler import build_scheduler\n",
    "\n",
    "from models.dis_losses.fmdv2 import AttentionProjector"
   ]
  },
  {
   "cell_type": "code",
   "execution_count": 3,
   "id": "56db5e81-bce1-4abc-bfd6-749a386c8d66",
   "metadata": {},
   "outputs": [],
   "source": [
    "def create_directory_if_not_exists(directory):\n",
    "    # 检查目录是否存在\n",
    "    if not os.path.exists(directory):\n",
    "        # 如果目录不存在，则创建目录\n",
    "        os.makedirs(directory)\n",
    "        print(\"目录 '{}' 创建成功\".format(directory))\n",
    "    else:\n",
    "        print(\"目录 '{}' 已经存在\".format(directory))\n",
    "\n",
    "# 递归删除指定目录下的.ipynb_checkpoints文件夹\n",
    "def remove_ipynb_checkpoints(root_folder):\n",
    "    for root, dirs, files in os.walk(root_folder):\n",
    "        for dir in dirs:\n",
    "            if dir == \".ipynb_checkpoints\":\n",
    "                folder_path = os.path.join(root, dir)\n",
    "                shutil.rmtree(folder_path)\n",
    "                print(f\"Deleted: {folder_path}\")\n",
    "\n",
    "class SwinTransformerTeacher(nn.Module):\n",
    "    def __init__(self, num_features=512):\n",
    "        super(SwinTransformerTeacher, self).__init__()\n",
    "        self.model = timm.create_model('swin_base_patch4_window7_224')\n",
    "        self.num_features = num_features\n",
    "        self.feat = nn.Linear(1024, num_features) if num_features > 0 else None\n",
    "\n",
    "    def extract_feat(self, x):\n",
    "        # 创建一个空列表，用于保存各层的输出特征\n",
    "        features = []\n",
    "        \n",
    "        patch_embed = self.model.patch_embed  # Patch Embedding 层\n",
    "        pos_drop = self.model.pos_drop\n",
    "        layers = self.model.layers  # 基本层（包含多个 SwinBlock）\n",
    "        \n",
    "        x = patch_embed(x)  # Patch Embedding\n",
    "        x = pos_drop(x)\n",
    "        for layer in layers:  # 逐个通过 BasicLayer\n",
    "            # x = layer(x)\n",
    "            # features.append(x)\n",
    "            for block in layer.blocks:\n",
    "                x = block(x)\n",
    "            features.append(x)\n",
    "            if layer.downsample is not None:\n",
    "                x = layer.downsample(x)\n",
    "        return tuple(features)\n",
    "\n",
    "    def forward_specific_stage(self, x, stage, down_sample=True):\n",
    "        BS, L, C = x.shape\n",
    "\n",
    "        if stage == 2:\n",
    "            if down_sample:\n",
    "                x = self.model.layers[-4].downsample(x)\n",
    "\n",
    "            for block in self.model.layers[-3].blocks:\n",
    "                x = block(x)\n",
    "\n",
    "        if stage == 3:\n",
    "            if down_sample:\n",
    "                x = self.model.layers[-3].downsample(x)\n",
    "\n",
    "            for block in self.model.layers[-2].blocks:\n",
    "                x = block(x)\n",
    "\n",
    "        if stage == 4:\n",
    "            if down_sample:\n",
    "                x = self.model.layers[-2].downsample(x)\n",
    "\n",
    "            for block in self.model.layers[-1].blocks:\n",
    "                x = block(x)\n",
    "\n",
    "            norm_layer = self.model.norm\n",
    "            x = norm_layer(x)\n",
    "\n",
    "        return x\n",
    "        \n",
    "    def forward_features(self, x):\n",
    "        x = self.model.forward_features(x)\n",
    "        return x\n",
    "\n",
    "    def forward(self, x):\n",
    "        x = self.model.forward_features(x)\n",
    "        if not self.feat is None:\n",
    "            x = self.feat(x)\n",
    "        return x\n",
    "\n",
    "class ResNetStudent(nn.Module):\n",
    "    def __init__(self, num_features=512):\n",
    "        super(ResNetStudent, self).__init__()\n",
    "        self.model = timm.create_model('resnet50', pretrained=True)  # 使用ResNet-50作为学生模型\n",
    "        # 修改 layer1 和 layer2，向每个残差块中的 ReLU 前加上 InstanceNorm2d\n",
    "        self._modify_layer(self.model.layer1)\n",
    "        self._modify_layer(self.model.layer2)\n",
    "        self._modify_layer_stride(self.model.layer4[0].conv2, self.model.layer4[0].downsample[0])\n",
    "        # 进行特征映射\n",
    "        self.projector_1 = AttentionProjector(student_dims=256, teacher_dims=128, hw_dims=(56, 56), pos_dims=128, window_shapes=(1, 1), self_query=True, \n",
    "                                 softmax_scale=5.0, num_heads=4)\n",
    "        self.projector_2 = AttentionProjector(student_dims=512, teacher_dims=256, hw_dims=(28, 28), pos_dims=256, window_shapes=(1, 1), self_query=True, \n",
    "                                         softmax_scale=5.0, num_heads=8)\n",
    "        self.projector_3 = AttentionProjector(student_dims=1024, teacher_dims=512, hw_dims=(14, 14), pos_dims=512, window_shapes=(1, 1), self_query=True, \n",
    "                                         softmax_scale=5.0, num_heads=16)\n",
    "        self.projector_4 = AttentionProjector(student_dims=2048, teacher_dims=1024, hw_dims=(7, 7), pos_dims=1024, window_shapes=(1, 1), self_query=True, \n",
    "                                 softmax_scale=5.0, num_heads=32)\n",
    "        # 输出设置\n",
    "        self.gap = nn.AdaptiveAvgPool2d((1, 1))\n",
    "        self.flatten_dim = 2048\n",
    "        self.feat = nn.Linear(self.flatten_dim, num_features) if num_features > 0 else None\n",
    "    \n",
    "    def extract_feat(self, x):\n",
    "        # 创建一个空列表，用于保存各层的输出特征\n",
    "        features = []\n",
    "        \n",
    "        # 提取每个阶段的层\n",
    "        conv1 = self.model.conv1  # 初始卷积层\n",
    "        bn1 = self.model.bn1\n",
    "        act1 = self.model.act1\n",
    "        maxpool = self.model.maxpool\n",
    "        layer1 = self.model.layer1  # 第一阶段（残差块1）\n",
    "        layer2 = self.model.layer2  # 第二阶段（残差块2）\n",
    "        layer3 = self.model.layer3  # 第三阶段（残差块3）\n",
    "        layer4 = self.model.layer4  # 第四阶段（残差块4）\n",
    "        \n",
    "        x = conv1(x)\n",
    "        x = bn1(x)\n",
    "        x = act1(x)\n",
    "        x = maxpool(x)\n",
    "        stage1_out = layer1(x)  # 第一阶段的输出\n",
    "        # features.append(stage1_out)\n",
    "        stage2_out = layer2(stage1_out)  # 第二阶段的输出\n",
    "        # features.append(stage2_out)\n",
    "        stage3_out = layer3(stage2_out)  # 第三阶段的输出\n",
    "        student_feature_proj3 = self.projector_3(stage3_out)\n",
    "        features.append(student_feature_proj3)\n",
    "        stage4_out = layer4(stage3_out)  # 第四阶段的输出\n",
    "        student_feature_proj4 = self.projector_4(stage4_out)\n",
    "        features.append(student_feature_proj4)\n",
    "        return tuple(features)\n",
    "        \n",
    "    '''\n",
    "    def extract_feat_proj(self, x):\n",
    "        features = []\n",
    "        student_features = self.extract_feat(x)\n",
    "        # student_feature_proj1 = self.projector_1(student_features[0])\n",
    "        # features.append(student_feature_proj1)\n",
    "        # student_feature_proj2 = self.projector_2(student_features[1])\n",
    "        # features.append(student_feature_proj2)\n",
    "        student_feature_proj3 = self.projector_3(student_features[2])\n",
    "        features.append(student_feature_proj3)\n",
    "        student_feature_proj4 = self.projector_4(student_features[3])\n",
    "        features.append(student_feature_proj4)\n",
    "        return tuple(features)\n",
    "    '''\n",
    "        \n",
    "    def _modify_layer(self, layer):\n",
    "        \"\"\"\n",
    "        在每个残差块中的 ReLU 前加上 InstanceNorm2d 操作。\n",
    "        \"\"\"\n",
    "        for block in layer:\n",
    "            # 修改 conv1 和 conv2 之后的 ReLU，将 InstanceNorm2d 放在 ReLU 前面\n",
    "            # 对于每个残差块，将 InstanceNorm2d 加入到 ReLU 之前\n",
    "            block.act3 = nn.Sequential(\n",
    "                nn.InstanceNorm2d(block.conv3.out_channels, affine=True),\n",
    "                nn.ReLU(inplace=True)\n",
    "            )\n",
    "            \n",
    "    def _modify_layer_stride(self, last_layer, last_layer_downsample):\n",
    "        # 在最后一层将stride改为1\n",
    "        last_layer.stride = (1, 1)\n",
    "        last_layer_downsample.stride = (1, 1)\n",
    "        \n",
    "    def forward_features(self, x):\n",
    "        x = self.model.forward_features(x)\n",
    "        return x\n",
    "\n",
    "    def forward(self, x):\n",
    "        x = self.model.forward_features(x)\n",
    "        # 池化操作，[batch_size, 2048, 7, 7] -> [batch_size, 2048, 1, 1]\n",
    "        x = self.gap(x)\n",
    "        # 展平特征图，将其变为 [batch_size, 2048 * 1 * 1]\n",
    "        x = x.view(x.size(0), -1)  # 展平\n",
    "        if not self.feat is None:\n",
    "            x = self.feat(x)\n",
    "        return x\n",
    "\n",
    "class Data_Processor(object):\n",
    "    def __init__(self, height, width):\n",
    "        self.height = height\n",
    "        self.width = width\n",
    "        self.transformer = Transforms.Compose([\n",
    "            Transforms.Resize((self.height, self.width)),\n",
    "            Transforms.ToTensor(),\n",
    "            Transforms.Normalize(mean=[0.485, 0.456, 0.406], std=[0.229, 0.224, 0.225])\n",
    "        ])\n",
    "\n",
    "    def __call__(self, img):\n",
    "        return self.transformer(img).unsqueeze(0)\n",
    "\n",
    "def cosine_similarity_loss(student_features, teacher_features, alpha=0.5):\n",
    "    \"\"\"\n",
    "    计算余弦相似度损失，主要用于ReID任务中对齐特征。\n",
    "    \n",
    "    :param student_features: 学生模型的特征 (B, 512)\n",
    "    :param teacher_features: 教师模型的特征 (B, 512)\n",
    "    :param alpha: 蒸馏损失的权重，通常在 0-1 之间\n",
    "    :return: 损失值\n",
    "    \"\"\"\n",
    "    # 归一化特征向量\n",
    "    student_features = F.normalize(student_features, p=2, dim=1)\n",
    "    teacher_features = F.normalize(teacher_features, p=2, dim=1)\n",
    "    \n",
    "    # 计算余弦相似度\n",
    "    cosine_similarity = F.cosine_similarity(student_features, teacher_features)\n",
    "    \n",
    "    # 损失为 1 - cosine_similarity，越接近1，表示相似度越高，损失越低\n",
    "    loss = 1 - cosine_similarity.mean()\n",
    "    \n",
    "    return loss * alpha\n",
    "\n",
    "def rbf_kernel(x, y, sigma=1.0):\n",
    "    \"\"\"\n",
    "    计算高斯 RBF 核函数\n",
    "    :param x: 输入张量 x (batch_size, feature_dim)\n",
    "    :param y: 输入张量 y (batch_size, feature_dim)\n",
    "    :param sigma: 核函数的宽度，控制相似度的范围\n",
    "    :return: 计算得到的 RBF 核\n",
    "    \"\"\"\n",
    "    # 计算样本之间的平方欧几里得距离\n",
    "    xx = torch.sum(x ** 2, dim=1, keepdim=True)\n",
    "    yy = torch.sum(y ** 2, dim=1, keepdim=True)\n",
    "    dist = xx + yy.t() - 2 * torch.matmul(x, y.t())\n",
    "    \n",
    "    # 计算 RBF 核（高斯核）\n",
    "    return torch.exp(-dist / (2 * sigma ** 2))\n",
    "\n",
    "def mmd_loss(X, Y, sigma=1.0):\n",
    "    \"\"\"\n",
    "    计算最大均值差异（MMD）损失\n",
    "    :param X: 样本集 X (batch_size_1, feature_dim)\n",
    "    :param Y: 样本集 Y (batch_size_2, feature_dim)\n",
    "    :param sigma: 核函数的宽度，控制相似度的范围\n",
    "    :return: MMD 损失\n",
    "    \"\"\"\n",
    "    # 计算 RBF 核\n",
    "    XX = rbf_kernel(X, X, sigma)  # X 中样本对之间的核\n",
    "    YY = rbf_kernel(Y, Y, sigma)  # Y 中样本对之间的核\n",
    "    XY = rbf_kernel(X, Y, sigma)  # X 和 Y 中样本对之间的核\n",
    "\n",
    "    # 计算 MMD 损失\n",
    "    loss = XX.mean() + YY.mean() - 2 * XY.mean()\n",
    "    \n",
    "    return loss\n",
    "\n",
    "def mse_loss_project(student_features, teacher_features):\n",
    "    total_loss = 0\n",
    "    total_medium_len = len(student_features)\n",
    "    for i in range(total_medium_len):\n",
    "        # 计算欧几里得距离的平方\n",
    "        diff = student_features[i] - teacher_features[i + 2]  # 计算两个张量的差\n",
    "        sq_diff = diff ** 2  # 每个元素差的平方\n",
    "        # 对所有元素求均值\n",
    "        loss = torch.mean(sq_diff)  # 对整个张量取均值\n",
    "        total_loss += loss\n",
    "    avg_mse_loss = total_loss / total_medium_len\n",
    "    return avg_mse_loss"
   ]
  },
  {
   "cell_type": "code",
   "execution_count": 5,
   "id": "a7f799eb-b947-42e0-ba21-1d9fd078f9e9",
   "metadata": {
    "scrolled": true
   },
   "outputs": [],
   "source": [
    "device = torch.device('cuda:0' if torch.cuda.is_available() else 'cpu')\n",
    "\n",
    "fix_seed = 2024\n",
    "random.seed(fix_seed)\n",
    "torch.manual_seed(fix_seed)\n",
    "np.random.seed(fix_seed)\n",
    "mp.set_start_method('spawn', force=True)  # 设置 'spawn' 方法\n",
    "\n",
    "# 手动创建一个包含参数的命名空间\n",
    "args = argparse.Namespace()\n",
    "args.root_dir_train = \"/homec/xiaolei/projects/ReID/datasets/train\"\n",
    "args.root_dir_valid = \"/homec/xiaolei/projects/ReID/datasets/valid\"\n",
    "args.train_epochs = 100\n",
    "args.batch_size = 128\n",
    "args.num_workers = 10\n",
    "args.height = 224\n",
    "args.width = 224\n",
    "args.resume = True\n",
    "config = get_config(args)\n",
    "stage_train = \"train\"\n",
    "stage_valid = \"valid\"\n",
    "\n",
    "remove_ipynb_checkpoints(args.root_dir_train)\n",
    "remove_ipynb_checkpoints(args.root_dir_valid)\n",
    "\n",
    "train_data_loader = data_provider(args, stage=stage_train)\n",
    "valid_data_loader = data_provider(args, stage=stage_valid)\n",
    "\n",
    "# 初始化教师模型和学生模型\n",
    "teacher_model = SwinTransformerTeacher(num_features=512).cuda()\n",
    "student_model = ResNetStudent(num_features=512).cuda()\n",
    "\n",
    "# 加载教师模型的预训练权重（假设教师模型已经训练好）\n",
    "teacher_weight_path = '/homec/xiaolei/projects/ISR/weights/swin_base_patch4_window7_224.pth'\n",
    "teacher_weight = torch.load(teacher_weight_path)\n",
    "teacher_model.load_state_dict(teacher_weight['state_dict'], strict=True)\n",
    "teacher_model.eval()  # 冻结教师模型\n",
    "for param in teacher_model.parameters():\n",
    "    param.requires_grad = False\n",
    "if args.resume:\n",
    "    student_model_weight_path = 'weights/student_model_base6_strong_reid_mmd_mse_loss/best_student_model.pth'\n",
    "    student_model_weight = torch.load(student_model_weight_path)\n",
    "    student_model.load_state_dict(student_model_weight, strict=True)\n",
    "\n",
    "s_loss = dict()\n",
    "# 查看模型可使用的函数\n",
    "# dir(student_model)"
   ]
  },
  {
   "cell_type": "code",
   "execution_count": 6,
   "id": "e967254a-ebca-43b9-ad48-27cfe707937e",
   "metadata": {
    "scrolled": true
   },
   "outputs": [
    {
     "name": "stdout",
     "output_type": "stream",
     "text": [
      "目录 '/homec/xiaolei/projects/ReID/weights/student_model_base6_strong_reid_mmd_mse_loss' 已经存在\n"
     ]
    },
    {
     "name": "stderr",
     "output_type": "stream",
     "text": [
      "Epoch 51/100: 100%|██████████| 1854/1854 [37:44<00:00,  1.22s/it, loss=27.8]\n",
      "Epoch 51/100: 100%|██████████| 107/107 [24:51<00:00, 13.94s/it, val_output_loss=24]  \n"
     ]
    },
    {
     "name": "stdout",
     "output_type": "stream",
     "text": [
      "Epoch 51/100, Training Loss: 27.04056491049362, Validation Output Loss: 28.163590867942737\n",
      "Best model saved with Validation Loss: 28.163590867942737\n"
     ]
    },
    {
     "name": "stderr",
     "output_type": "stream",
     "text": [
      "Epoch 52/100: 100%|██████████| 1854/1854 [37:51<00:00,  1.23s/it, loss=27.7]\n",
      "Epoch 52/100: 100%|██████████| 107/107 [21:28<00:00, 12.04s/it, val_output_loss=23.4]\n"
     ]
    },
    {
     "name": "stdout",
     "output_type": "stream",
     "text": [
      "Epoch 52/100, Training Loss: 26.97899309176843, Validation Output Loss: 27.779837528121806\n",
      "Best model saved with Validation Loss: 27.779837528121806\n"
     ]
    },
    {
     "name": "stderr",
     "output_type": "stream",
     "text": [
      "Epoch 53/100: 100%|██████████| 1854/1854 [37:49<00:00,  1.22s/it, loss=30.1]\n",
      "Epoch 53/100: 100%|██████████| 107/107 [34:38<00:00, 19.42s/it, val_output_loss=23.3]\n"
     ]
    },
    {
     "name": "stdout",
     "output_type": "stream",
     "text": [
      "Epoch 53/100, Training Loss: 26.881751501830266, Validation Output Loss: 27.739326619656286\n",
      "Best model saved with Validation Loss: 27.739326619656286\n"
     ]
    },
    {
     "name": "stderr",
     "output_type": "stream",
     "text": [
      "Epoch 54/100: 100%|██████████| 1854/1854 [37:39<00:00,  1.22s/it, loss=25.7]\n",
      "Epoch 54/100: 100%|██████████| 107/107 [33:34<00:00, 18.83s/it, val_output_loss=23.3]\n"
     ]
    },
    {
     "name": "stdout",
     "output_type": "stream",
     "text": [
      "Epoch 54/100, Training Loss: 26.83286458851836, Validation Output Loss: 27.516983994813724\n",
      "Best model saved with Validation Loss: 27.516983994813724\n"
     ]
    },
    {
     "name": "stderr",
     "output_type": "stream",
     "text": [
      "Epoch 55/100: 100%|██████████| 1854/1854 [37:46<00:00,  1.22s/it, loss=27.9]\n",
      "Epoch 55/100: 100%|██████████| 107/107 [20:14<00:00, 11.35s/it, val_output_loss=23.4]\n"
     ]
    },
    {
     "name": "stdout",
     "output_type": "stream",
     "text": [
      "Epoch 55/100, Training Loss: 26.73995355340655, Validation Output Loss: 27.719667399041008\n"
     ]
    },
    {
     "name": "stderr",
     "output_type": "stream",
     "text": [
      "Epoch 56/100: 100%|██████████| 1854/1854 [37:49<00:00,  1.22s/it, loss=28.8]\n",
      "Epoch 56/100: 100%|██████████| 107/107 [26:57<00:00, 15.12s/it, val_output_loss=23.3]\n"
     ]
    },
    {
     "name": "stdout",
     "output_type": "stream",
     "text": [
      "Epoch 56/100, Training Loss: 26.635056409249415, Validation Output Loss: 27.71592564449132\n"
     ]
    },
    {
     "name": "stderr",
     "output_type": "stream",
     "text": [
      "Epoch 57/100: 100%|██████████| 1854/1854 [37:50<00:00,  1.22s/it, loss=27.1]\n",
      "Epoch 57/100: 100%|██████████| 107/107 [21:46<00:00, 12.21s/it, val_output_loss=23.3]\n"
     ]
    },
    {
     "name": "stdout",
     "output_type": "stream",
     "text": [
      "Epoch 57/100, Training Loss: 26.598027646991685, Validation Output Loss: 27.223106259497527\n",
      "Best model saved with Validation Loss: 27.223106259497527\n"
     ]
    },
    {
     "name": "stderr",
     "output_type": "stream",
     "text": [
      "Epoch 58/100: 100%|██████████| 1854/1854 [37:51<00:00,  1.23s/it, loss=27.1]\n",
      "Epoch 58/100: 100%|██████████| 107/107 [21:39<00:00, 12.15s/it, val_output_loss=23.8]\n"
     ]
    },
    {
     "name": "stdout",
     "output_type": "stream",
     "text": [
      "Epoch 58/100, Training Loss: 26.528528081817793, Validation Output Loss: 27.745502204538507\n"
     ]
    },
    {
     "name": "stderr",
     "output_type": "stream",
     "text": [
      "Epoch 59/100: 100%|██████████| 1854/1854 [37:55<00:00,  1.23s/it, loss=26.4]\n",
      "Epoch 59/100: 100%|██████████| 107/107 [31:01<00:00, 17.40s/it, val_output_loss=23.2]\n"
     ]
    },
    {
     "name": "stdout",
     "output_type": "stream",
     "text": [
      "Epoch 59/100, Training Loss: 26.466556283648345, Validation Output Loss: 27.51876080593216\n"
     ]
    },
    {
     "name": "stderr",
     "output_type": "stream",
     "text": [
      "Epoch 60/100: 100%|██████████| 1854/1854 [37:43<00:00,  1.22s/it, loss=26.2]\n",
      "Epoch 60/100: 100%|██████████| 107/107 [30:11<00:00, 16.93s/it, val_output_loss=23]  \n"
     ]
    },
    {
     "name": "stdout",
     "output_type": "stream",
     "text": [
      "Epoch 60/100, Training Loss: 26.389839358571535, Validation Output Loss: 27.29508767172555\n"
     ]
    },
    {
     "name": "stderr",
     "output_type": "stream",
     "text": [
      "Epoch 61/100: 100%|██████████| 1854/1854 [37:47<00:00,  1.22s/it, loss=26.7]\n",
      "Epoch 61/100: 100%|██████████| 107/107 [39:59<00:00, 22.43s/it, val_output_loss=23.1]\n"
     ]
    },
    {
     "name": "stdout",
     "output_type": "stream",
     "text": [
      "Epoch 61/100, Training Loss: 26.311590804765654, Validation Output Loss: 27.197093910145984\n",
      "Best model saved with Validation Loss: 27.197093910145984\n"
     ]
    },
    {
     "name": "stderr",
     "output_type": "stream",
     "text": [
      "Epoch 62/100: 100%|██████████| 1854/1854 [37:55<00:00,  1.23s/it, loss=24.6]\n",
      "Epoch 62/100: 100%|██████████| 107/107 [39:05<00:00, 21.92s/it, val_output_loss=22.5]\n"
     ]
    },
    {
     "name": "stdout",
     "output_type": "stream",
     "text": [
      "Epoch 62/100, Training Loss: 26.274973896071877, Validation Output Loss: 26.82184331662187\n",
      "Best model saved with Validation Loss: 26.82184331662187\n"
     ]
    },
    {
     "name": "stderr",
     "output_type": "stream",
     "text": [
      "Epoch 63/100: 100%|██████████| 1854/1854 [37:53<00:00,  1.23s/it, loss=26]  \n",
      "Epoch 63/100: 100%|██████████| 107/107 [29:44<00:00, 16.68s/it, val_output_loss=22.8]\n"
     ]
    },
    {
     "name": "stdout",
     "output_type": "stream",
     "text": [
      "Epoch 63/100, Training Loss: 26.185711284542805, Validation Output Loss: 27.02109541848441\n"
     ]
    },
    {
     "name": "stderr",
     "output_type": "stream",
     "text": [
      "Epoch 64/100: 100%|██████████| 1854/1854 [37:43<00:00,  1.22s/it, loss=25.4]\n",
      "Epoch 64/100: 100%|██████████| 107/107 [22:51<00:00, 12.82s/it, val_output_loss=22.8]\n"
     ]
    },
    {
     "name": "stdout",
     "output_type": "stream",
     "text": [
      "Epoch 64/100, Training Loss: 26.14395077508887, Validation Output Loss: 26.949745178222656\n"
     ]
    },
    {
     "name": "stderr",
     "output_type": "stream",
     "text": [
      "Epoch 65/100: 100%|██████████| 1854/1854 [37:49<00:00,  1.22s/it, loss=26]  \n",
      "Epoch 65/100: 100%|██████████| 107/107 [04:15<00:00,  2.38s/it, val_output_loss=23.1]\n"
     ]
    },
    {
     "name": "stdout",
     "output_type": "stream",
     "text": [
      "Epoch 65/100, Training Loss: 26.08725680605365, Validation Output Loss: 27.26606964396539\n"
     ]
    },
    {
     "name": "stderr",
     "output_type": "stream",
     "text": [
      "Epoch 66/100: 100%|██████████| 1854/1854 [37:42<00:00,  1.22s/it, loss=25.5]\n",
      "Epoch 66/100: 100%|██████████| 107/107 [03:52<00:00,  2.18s/it, val_output_loss=22.8]\n"
     ]
    },
    {
     "name": "stdout",
     "output_type": "stream",
     "text": [
      "Epoch 66/100, Training Loss: 26.03202331670537, Validation Output Loss: 26.849494185403127\n"
     ]
    },
    {
     "name": "stderr",
     "output_type": "stream",
     "text": [
      "Epoch 67/100: 100%|██████████| 1854/1854 [37:44<00:00,  1.22s/it, loss=25.3]\n",
      "Epoch 67/100: 100%|██████████| 107/107 [06:25<00:00,  3.61s/it, val_output_loss=23]  \n"
     ]
    },
    {
     "name": "stdout",
     "output_type": "stream",
     "text": [
      "Epoch 67/100, Training Loss: 25.955578009801904, Validation Output Loss: 26.89437301136623\n"
     ]
    },
    {
     "name": "stderr",
     "output_type": "stream",
     "text": [
      "Epoch 68/100: 100%|██████████| 1854/1854 [37:51<00:00,  1.22s/it, loss=25.5]\n",
      "Epoch 68/100: 100%|██████████| 107/107 [36:17<00:00, 20.35s/it, val_output_loss=22.6]\n"
     ]
    },
    {
     "name": "stdout",
     "output_type": "stream",
     "text": [
      "Epoch 68/100, Training Loss: 25.895486297730876, Validation Output Loss: 26.717750353233836\n",
      "Best model saved with Validation Loss: 26.717750353233836\n"
     ]
    },
    {
     "name": "stderr",
     "output_type": "stream",
     "text": [
      "Epoch 69/100: 100%|██████████| 1854/1854 [37:38<00:00,  1.22s/it, loss=25.4]\n",
      "Epoch 69/100: 100%|██████████| 107/107 [06:39<00:00,  3.73s/it, val_output_loss=22.8]\n"
     ]
    },
    {
     "name": "stdout",
     "output_type": "stream",
     "text": [
      "Epoch 69/100, Training Loss: 25.835821420243644, Validation Output Loss: 26.729095138121988\n"
     ]
    },
    {
     "name": "stderr",
     "output_type": "stream",
     "text": [
      "Epoch 70/100: 100%|██████████| 1854/1854 [37:40<00:00,  1.22s/it, loss=25]  \n",
      "Epoch 70/100: 100%|██████████| 107/107 [26:41<00:00, 14.96s/it, val_output_loss=22.8]\n"
     ]
    },
    {
     "name": "stdout",
     "output_type": "stream",
     "text": [
      "Epoch 70/100, Training Loss: 25.803728284702075, Validation Output Loss: 26.710142082143054\n",
      "Best model saved with Validation Loss: 26.710142082143054\n"
     ]
    },
    {
     "name": "stderr",
     "output_type": "stream",
     "text": [
      "Epoch 71/100: 100%|██████████| 1854/1854 [37:50<00:00,  1.22s/it, loss=25.5]\n",
      "Epoch 71/100: 100%|██████████| 107/107 [04:05<00:00,  2.30s/it, val_output_loss=22.5]\n"
     ]
    },
    {
     "name": "stdout",
     "output_type": "stream",
     "text": [
      "Epoch 71/100, Training Loss: 25.727116153721155, Validation Output Loss: 26.820625572561102\n"
     ]
    },
    {
     "name": "stderr",
     "output_type": "stream",
     "text": [
      "Epoch 72/100: 100%|██████████| 1854/1854 [37:48<00:00,  1.22s/it, loss=25.3]\n",
      "Epoch 72/100: 100%|██████████| 107/107 [24:04<00:00, 13.50s/it, val_output_loss=22.6]\n"
     ]
    },
    {
     "name": "stdout",
     "output_type": "stream",
     "text": [
      "Epoch 72/100, Training Loss: 25.660037138444064, Validation Output Loss: 26.6833964196321\n",
      "Best model saved with Validation Loss: 26.6833964196321\n"
     ]
    },
    {
     "name": "stderr",
     "output_type": "stream",
     "text": [
      "Epoch 73/100: 100%|██████████| 1854/1854 [37:41<00:00,  1.22s/it, loss=25.5]\n",
      "Epoch 73/100: 100%|██████████| 107/107 [05:03<00:00,  2.83s/it, val_output_loss=22.5]\n"
     ]
    },
    {
     "name": "stdout",
     "output_type": "stream",
     "text": [
      "Epoch 73/100, Training Loss: 25.662083241031652, Validation Output Loss: 26.43494384979533\n",
      "Best model saved with Validation Loss: 26.43494384979533\n"
     ]
    },
    {
     "name": "stderr",
     "output_type": "stream",
     "text": [
      "Epoch 74/100: 100%|██████████| 1854/1854 [37:53<00:00,  1.23s/it, loss=25.6]\n",
      "Epoch 74/100: 100%|██████████| 107/107 [04:13<00:00,  2.37s/it, val_output_loss=22.3]\n"
     ]
    },
    {
     "name": "stdout",
     "output_type": "stream",
     "text": [
      "Epoch 74/100, Training Loss: 25.608037121473394, Validation Output Loss: 26.6356828814355\n"
     ]
    },
    {
     "name": "stderr",
     "output_type": "stream",
     "text": [
      "Epoch 75/100: 100%|██████████| 1854/1854 [37:53<00:00,  1.23s/it, loss=25.8]\n",
      "Epoch 75/100: 100%|██████████| 107/107 [04:04<00:00,  2.29s/it, val_output_loss=22]  \n"
     ]
    },
    {
     "name": "stdout",
     "output_type": "stream",
     "text": [
      "Epoch 75/100, Training Loss: 25.56093142487856, Validation Output Loss: 26.403493809922832\n",
      "Best model saved with Validation Loss: 26.403493809922832\n"
     ]
    },
    {
     "name": "stderr",
     "output_type": "stream",
     "text": [
      "Epoch 76/100: 100%|██████████| 1854/1854 [37:42<00:00,  1.22s/it, loss=25.2]\n",
      "Epoch 76/100: 100%|██████████| 107/107 [04:14<00:00,  2.37s/it, val_output_loss=22.3]\n"
     ]
    },
    {
     "name": "stdout",
     "output_type": "stream",
     "text": [
      "Epoch 76/100, Training Loss: 25.492029682846645, Validation Output Loss: 26.486351476651485\n"
     ]
    },
    {
     "name": "stderr",
     "output_type": "stream",
     "text": [
      "Epoch 77/100: 100%|██████████| 1854/1854 [37:52<00:00,  1.23s/it, loss=25.9]\n",
      "Epoch 77/100: 100%|██████████| 107/107 [05:51<00:00,  3.29s/it, val_output_loss=22.1]\n"
     ]
    },
    {
     "name": "stdout",
     "output_type": "stream",
     "text": [
      "Epoch 77/100, Training Loss: 25.461344044056784, Validation Output Loss: 26.2646473857844\n",
      "Best model saved with Validation Loss: 26.2646473857844\n"
     ]
    },
    {
     "name": "stderr",
     "output_type": "stream",
     "text": [
      "Epoch 78/100: 100%|██████████| 1854/1854 [37:51<00:00,  1.23s/it, loss=26]  \n",
      "Epoch 78/100: 100%|██████████| 107/107 [08:59<00:00,  5.04s/it, val_output_loss=22.1]\n"
     ]
    },
    {
     "name": "stdout",
     "output_type": "stream",
     "text": [
      "Epoch 78/100, Training Loss: 25.416938873299245, Validation Output Loss: 26.31604777541116\n"
     ]
    },
    {
     "name": "stderr",
     "output_type": "stream",
     "text": [
      "Epoch 79/100: 100%|██████████| 1854/1854 [37:50<00:00,  1.22s/it, loss=28.4]\n",
      "Epoch 79/100: 100%|██████████| 107/107 [08:02<00:00,  4.51s/it, val_output_loss=21.9]\n"
     ]
    },
    {
     "name": "stdout",
     "output_type": "stream",
     "text": [
      "Epoch 79/100, Training Loss: 25.37343116974239, Validation Output Loss: 26.104827880859375\n",
      "Best model saved with Validation Loss: 26.104827880859375\n"
     ]
    },
    {
     "name": "stderr",
     "output_type": "stream",
     "text": [
      "Epoch 80/100: 100%|██████████| 1854/1854 [37:48<00:00,  1.22s/it, loss=26.5]\n",
      "Epoch 80/100: 100%|██████████| 107/107 [04:26<00:00,  2.49s/it, val_output_loss=21.8]\n"
     ]
    },
    {
     "name": "stdout",
     "output_type": "stream",
     "text": [
      "Epoch 80/100, Training Loss: 25.31534370249529, Validation Output Loss: 26.118305028041945\n"
     ]
    },
    {
     "name": "stderr",
     "output_type": "stream",
     "text": [
      "Epoch 81/100: 100%|██████████| 1854/1854 [37:38<00:00,  1.22s/it, loss=26.1]\n",
      "Epoch 81/100: 100%|██████████| 107/107 [35:30<00:00, 19.91s/it, val_output_loss=21.9]\n"
     ]
    },
    {
     "name": "stdout",
     "output_type": "stream",
     "text": [
      "Epoch 81/100, Training Loss: 25.260050318902106, Validation Output Loss: 26.407961337365837\n"
     ]
    },
    {
     "name": "stderr",
     "output_type": "stream",
     "text": [
      "Epoch 82/100: 100%|██████████| 1854/1854 [37:45<00:00,  1.22s/it, loss=25.9]\n",
      "Epoch 82/100: 100%|██████████| 107/107 [04:19<00:00,  2.42s/it, val_output_loss=22.3]\n"
     ]
    },
    {
     "name": "stdout",
     "output_type": "stream",
     "text": [
      "Epoch 82/100, Training Loss: 25.247894230526757, Validation Output Loss: 26.222085614070714\n"
     ]
    },
    {
     "name": "stderr",
     "output_type": "stream",
     "text": [
      "Epoch 83/100: 100%|██████████| 1854/1854 [37:47<00:00,  1.22s/it, loss=26.1]\n",
      "Epoch 83/100: 100%|██████████| 107/107 [15:25<00:00,  8.65s/it, val_output_loss=22.3]\n"
     ]
    },
    {
     "name": "stdout",
     "output_type": "stream",
     "text": [
      "Epoch 83/100, Training Loss: 25.20349005253698, Validation Output Loss: 26.228647428138235\n"
     ]
    },
    {
     "name": "stderr",
     "output_type": "stream",
     "text": [
      "Epoch 84/100: 100%|██████████| 1854/1854 [37:42<00:00,  1.22s/it, loss=24.3]\n",
      "Epoch 84/100: 100%|██████████| 107/107 [04:08<00:00,  2.33s/it, val_output_loss=21.8]\n"
     ]
    },
    {
     "name": "stdout",
     "output_type": "stream",
     "text": [
      "Epoch 84/100, Training Loss: 25.156308179277175, Validation Output Loss: 26.04704445099162\n",
      "Best model saved with Validation Loss: 26.04704445099162\n"
     ]
    },
    {
     "name": "stderr",
     "output_type": "stream",
     "text": [
      "Epoch 85/100: 100%|██████████| 1854/1854 [37:40<00:00,  1.22s/it, loss=25.7]\n",
      "Epoch 85/100: 100%|██████████| 107/107 [04:01<00:00,  2.26s/it, val_output_loss=21.8]\n"
     ]
    },
    {
     "name": "stdout",
     "output_type": "stream",
     "text": [
      "Epoch 85/100, Training Loss: 25.107493304897666, Validation Output Loss: 25.914486501818505\n",
      "Best model saved with Validation Loss: 25.914486501818505\n"
     ]
    },
    {
     "name": "stderr",
     "output_type": "stream",
     "text": [
      "Epoch 86/100: 100%|██████████| 1854/1854 [37:52<00:00,  1.23s/it, loss=25]  \n",
      "Epoch 86/100: 100%|██████████| 107/107 [04:12<00:00,  2.36s/it, val_output_loss=22.3]\n"
     ]
    },
    {
     "name": "stdout",
     "output_type": "stream",
     "text": [
      "Epoch 86/100, Training Loss: 25.097288930043177, Validation Output Loss: 26.631336978662794\n"
     ]
    },
    {
     "name": "stderr",
     "output_type": "stream",
     "text": [
      "Epoch 87/100: 100%|██████████| 1854/1854 [37:40<00:00,  1.22s/it, loss=25.7]\n",
      "Epoch 87/100: 100%|██████████| 107/107 [08:54<00:00,  5.00s/it, val_output_loss=21.9]\n"
     ]
    },
    {
     "name": "stdout",
     "output_type": "stream",
     "text": [
      "Epoch 87/100, Training Loss: 25.028572830438872, Validation Output Loss: 25.90912795735297\n",
      "Best model saved with Validation Loss: 25.90912795735297\n"
     ]
    },
    {
     "name": "stderr",
     "output_type": "stream",
     "text": [
      "Epoch 88/100: 100%|██████████| 1854/1854 [37:44<00:00,  1.22s/it, loss=23.9]\n",
      "Epoch 88/100: 100%|██████████| 107/107 [04:05<00:00,  2.29s/it, val_output_loss=21.7]\n"
     ]
    },
    {
     "name": "stdout",
     "output_type": "stream",
     "text": [
      "Epoch 88/100, Training Loss: 25.025086179648916, Validation Output Loss: 25.852556816885404\n",
      "Best model saved with Validation Loss: 25.852556816885404\n"
     ]
    },
    {
     "name": "stderr",
     "output_type": "stream",
     "text": [
      "Epoch 89/100: 100%|██████████| 1854/1854 [37:47<00:00,  1.22s/it, loss=25.5]\n",
      "Epoch 89/100: 100%|██████████| 107/107 [04:19<00:00,  2.42s/it, val_output_loss=22]  \n"
     ]
    },
    {
     "name": "stdout",
     "output_type": "stream",
     "text": [
      "Epoch 89/100, Training Loss: 25.009002028159724, Validation Output Loss: 26.121297925432152\n"
     ]
    },
    {
     "name": "stderr",
     "output_type": "stream",
     "text": [
      "Epoch 90/100: 100%|██████████| 1854/1854 [37:40<00:00,  1.22s/it, loss=23.1]\n",
      "Epoch 90/100: 100%|██████████| 107/107 [04:18<00:00,  2.42s/it, val_output_loss=21.8]\n"
     ]
    },
    {
     "name": "stdout",
     "output_type": "stream",
     "text": [
      "Epoch 90/100, Training Loss: 24.921330278102378, Validation Output Loss: 26.07167251087795\n"
     ]
    },
    {
     "name": "stderr",
     "output_type": "stream",
     "text": [
      "Epoch 91/100: 100%|██████████| 1854/1854 [37:41<00:00,  1.22s/it, loss=24.6]\n",
      "Epoch 91/100: 100%|██████████| 107/107 [03:58<00:00,  2.23s/it, val_output_loss=21.6]\n"
     ]
    },
    {
     "name": "stdout",
     "output_type": "stream",
     "text": [
      "Epoch 91/100, Training Loss: 24.90445376831351, Validation Output Loss: 25.794538123585355\n",
      "Best model saved with Validation Loss: 25.794538123585355\n"
     ]
    },
    {
     "name": "stderr",
     "output_type": "stream",
     "text": [
      "Epoch 92/100: 100%|██████████| 1854/1854 [37:42<00:00,  1.22s/it, loss=25.2]\n",
      "Epoch 92/100: 100%|██████████| 107/107 [20:06<00:00, 11.28s/it, val_output_loss=21.8]\n"
     ]
    },
    {
     "name": "stdout",
     "output_type": "stream",
     "text": [
      "Epoch 92/100, Training Loss: 24.869464454527424, Validation Output Loss: 25.797895645426813\n"
     ]
    },
    {
     "name": "stderr",
     "output_type": "stream",
     "text": [
      "Epoch 93/100: 100%|██████████| 1854/1854 [37:37<00:00,  1.22s/it, loss=25.8]\n",
      "Epoch 93/100: 100%|██████████| 107/107 [04:17<00:00,  2.40s/it, val_output_loss=22]  \n"
     ]
    },
    {
     "name": "stdout",
     "output_type": "stream",
     "text": [
      "Epoch 93/100, Training Loss: 24.83444421782591, Validation Output Loss: 26.055656540059598\n"
     ]
    },
    {
     "name": "stderr",
     "output_type": "stream",
     "text": [
      "Epoch 94/100: 100%|██████████| 1854/1854 [37:53<00:00,  1.23s/it, loss=24.9]\n",
      "Epoch 94/100: 100%|██████████| 107/107 [18:56<00:00, 10.62s/it, val_output_loss=21.5]\n"
     ]
    },
    {
     "name": "stdout",
     "output_type": "stream",
     "text": [
      "Epoch 94/100, Training Loss: 24.78818674303567, Validation Output Loss: 25.920948206821336\n"
     ]
    },
    {
     "name": "stderr",
     "output_type": "stream",
     "text": [
      "Epoch 95/100: 100%|██████████| 1854/1854 [37:46<00:00,  1.22s/it, loss=25.2]\n",
      "Epoch 95/100: 100%|██████████| 107/107 [04:08<00:00,  2.32s/it, val_output_loss=21.8]\n"
     ]
    },
    {
     "name": "stdout",
     "output_type": "stream",
     "text": [
      "Epoch 95/100, Training Loss: 24.802408417966117, Validation Output Loss: 25.892782567817473\n"
     ]
    },
    {
     "name": "stderr",
     "output_type": "stream",
     "text": [
      "Epoch 96/100: 100%|██████████| 1854/1854 [37:44<00:00,  1.22s/it, loss=24.5]\n",
      "Epoch 96/100: 100%|██████████| 107/107 [04:09<00:00,  2.33s/it, val_output_loss=21.8]\n"
     ]
    },
    {
     "name": "stdout",
     "output_type": "stream",
     "text": [
      "Epoch 96/100, Training Loss: 24.762658881523848, Validation Output Loss: 25.867581162497263\n"
     ]
    },
    {
     "name": "stderr",
     "output_type": "stream",
     "text": [
      "Epoch 97/100: 100%|██████████| 1854/1854 [37:44<00:00,  1.22s/it, loss=24.8]\n",
      "Epoch 97/100: 100%|██████████| 107/107 [08:05<00:00,  4.54s/it, val_output_loss=21.6]\n"
     ]
    },
    {
     "name": "stdout",
     "output_type": "stream",
     "text": [
      "Epoch 97/100, Training Loss: 24.70850233841354, Validation Output Loss: 25.718899521872263\n",
      "Best model saved with Validation Loss: 25.718899521872263\n"
     ]
    },
    {
     "name": "stderr",
     "output_type": "stream",
     "text": [
      "Epoch 98/100: 100%|██████████| 1854/1854 [37:40<00:00,  1.22s/it, loss=24.8]\n",
      "Epoch 98/100: 100%|██████████| 107/107 [13:16<00:00,  7.44s/it, val_output_loss=21.9]\n"
     ]
    },
    {
     "name": "stdout",
     "output_type": "stream",
     "text": [
      "Epoch 98/100, Training Loss: 24.701492457713897, Validation Output Loss: 25.987400910564673\n"
     ]
    },
    {
     "name": "stderr",
     "output_type": "stream",
     "text": [
      "Epoch 99/100: 100%|██████████| 1854/1854 [37:37<00:00,  1.22s/it, loss=23.5]\n",
      "Epoch 99/100: 100%|██████████| 107/107 [04:00<00:00,  2.25s/it, val_output_loss=21.5]\n"
     ]
    },
    {
     "name": "stdout",
     "output_type": "stream",
     "text": [
      "Epoch 99/100, Training Loss: 24.655097705260836, Validation Output Loss: 25.622720254915897\n",
      "Best model saved with Validation Loss: 25.622720254915897\n"
     ]
    },
    {
     "name": "stderr",
     "output_type": "stream",
     "text": [
      "Epoch 100/100: 100%|██████████| 1854/1854 [37:45<00:00,  1.22s/it, loss=23.6]\n",
      "Epoch 100/100: 100%|██████████| 107/107 [04:36<00:00,  2.59s/it, val_output_loss=21.8]\n"
     ]
    },
    {
     "name": "stdout",
     "output_type": "stream",
     "text": [
      "Epoch 100/100, Training Loss: 24.621477582822468, Validation Output Loss: 25.744105864908093\n"
     ]
    },
    {
     "name": "stderr",
     "output_type": "stream",
     "text": [
      "Epoch 101/100: 100%|██████████| 1854/1854 [37:50<00:00,  1.22s/it, loss=24]  \n",
      "Epoch 101/100: 100%|██████████| 107/107 [22:54<00:00, 12.84s/it, val_output_loss=21.7] \n"
     ]
    },
    {
     "name": "stdout",
     "output_type": "stream",
     "text": [
      "Epoch 101/100, Training Loss: 24.600248350166066, Validation Output Loss: 25.67148525915413\n"
     ]
    },
    {
     "name": "stderr",
     "output_type": "stream",
     "text": [
      "Epoch 102/100: 100%|██████████| 1854/1854 [37:53<00:00,  1.23s/it, loss=24.3]\n",
      "Epoch 102/100: 100%|██████████| 107/107 [04:08<00:00,  2.32s/it, val_output_loss=21.5]\n"
     ]
    },
    {
     "name": "stdout",
     "output_type": "stream",
     "text": [
      "Epoch 102/100, Training Loss: 24.582230219177443, Validation Output Loss: 25.665236553299092\n"
     ]
    },
    {
     "name": "stderr",
     "output_type": "stream",
     "text": [
      "Epoch 103/100: 100%|██████████| 1854/1854 [37:46<00:00,  1.22s/it, loss=24]  \n",
      "Epoch 103/100: 100%|██████████| 107/107 [19:40<00:00, 11.03s/it, val_output_loss=21.4]\n"
     ]
    },
    {
     "name": "stdout",
     "output_type": "stream",
     "text": [
      "Epoch 103/100, Training Loss: 24.51461296945714, Validation Output Loss: 25.60756647698233\n",
      "Best model saved with Validation Loss: 25.60756647698233\n"
     ]
    },
    {
     "name": "stderr",
     "output_type": "stream",
     "text": [
      "Epoch 104/100: 100%|██████████| 1854/1854 [37:49<00:00,  1.22s/it, loss=27.8]\n",
      "Epoch 104/100: 100%|██████████| 107/107 [04:09<00:00,  2.33s/it, val_output_loss=21.4]\n"
     ]
    },
    {
     "name": "stdout",
     "output_type": "stream",
     "text": [
      "Epoch 104/100, Training Loss: 24.514163053280072, Validation Output Loss: 25.663106953986336\n"
     ]
    },
    {
     "name": "stderr",
     "output_type": "stream",
     "text": [
      "Epoch 105/100: 100%|██████████| 1854/1854 [37:51<00:00,  1.23s/it, loss=24.4]\n",
      "Epoch 105/100: 100%|██████████| 107/107 [04:04<00:00,  2.29s/it, val_output_loss=21.2]\n"
     ]
    },
    {
     "name": "stdout",
     "output_type": "stream",
     "text": [
      "Epoch 105/100, Training Loss: 24.447378215151954, Validation Output Loss: 25.445322803247755\n",
      "Best model saved with Validation Loss: 25.445322803247755\n"
     ]
    },
    {
     "name": "stderr",
     "output_type": "stream",
     "text": [
      "Epoch 106/100: 100%|██████████| 1854/1854 [37:53<00:00,  1.23s/it, loss=24.8]\n",
      "Epoch 106/100: 100%|██████████| 107/107 [07:43<00:00,  4.33s/it, val_output_loss=21]  \n"
     ]
    },
    {
     "name": "stdout",
     "output_type": "stream",
     "text": [
      "Epoch 106/100, Training Loss: 24.438732923941835, Validation Output Loss: 25.4587813225862\n"
     ]
    },
    {
     "name": "stderr",
     "output_type": "stream",
     "text": [
      "Epoch 107/100: 100%|██████████| 1854/1854 [37:47<00:00,  1.22s/it, loss=25.3]\n",
      "Epoch 107/100: 100%|██████████| 107/107 [05:37<00:00,  3.15s/it, val_output_loss=21.2]\n"
     ]
    },
    {
     "name": "stdout",
     "output_type": "stream",
     "text": [
      "Epoch 107/100, Training Loss: 24.51342303390256, Validation Output Loss: 25.459224593973605\n"
     ]
    },
    {
     "name": "stderr",
     "output_type": "stream",
     "text": [
      "Epoch 108/100: 100%|██████████| 1854/1854 [37:47<00:00,  1.22s/it, loss=24.8]\n",
      "Epoch 108/100: 100%|██████████| 107/107 [04:27<00:00,  2.50s/it, val_output_loss=21.4]\n"
     ]
    },
    {
     "name": "stdout",
     "output_type": "stream",
     "text": [
      "Epoch 108/100, Training Loss: 24.447466091044898, Validation Output Loss: 25.470996589304132\n"
     ]
    },
    {
     "name": "stderr",
     "output_type": "stream",
     "text": [
      "Epoch 109/100: 100%|██████████| 1854/1854 [37:49<00:00,  1.22s/it, loss=24.1]\n",
      "Epoch 109/100: 100%|██████████| 107/107 [04:13<00:00,  2.37s/it, val_output_loss=21.4]\n"
     ]
    },
    {
     "name": "stdout",
     "output_type": "stream",
     "text": [
      "Epoch 109/100, Training Loss: 24.459627521848216, Validation Output Loss: 25.35998372942488\n",
      "Best model saved with Validation Loss: 25.35998372942488\n"
     ]
    },
    {
     "name": "stderr",
     "output_type": "stream",
     "text": [
      "Epoch 110/100: 100%|██████████| 1854/1854 [37:51<00:00,  1.23s/it, loss=24.1]\n",
      "Epoch 110/100: 100%|██████████| 107/107 [32:05<00:00, 18.00s/it, val_output_loss=21.1]\n"
     ]
    },
    {
     "name": "stdout",
     "output_type": "stream",
     "text": [
      "Epoch 110/100, Training Loss: 24.417470040059012, Validation Output Loss: 25.36963906689225\n"
     ]
    },
    {
     "name": "stderr",
     "output_type": "stream",
     "text": [
      "Epoch 111/100: 100%|██████████| 1854/1854 [37:45<00:00,  1.22s/it, loss=24.1]\n",
      "Epoch 111/100: 100%|██████████| 107/107 [04:11<00:00,  2.35s/it, val_output_loss=21.3]\n"
     ]
    },
    {
     "name": "stdout",
     "output_type": "stream",
     "text": [
      "Epoch 111/100, Training Loss: 24.402127446994555, Validation Output Loss: 25.4503587740604\n"
     ]
    },
    {
     "name": "stderr",
     "output_type": "stream",
     "text": [
      "Epoch 112/100: 100%|██████████| 1854/1854 [37:51<00:00,  1.23s/it, loss=24]  \n",
      "Epoch 112/100: 100%|██████████| 107/107 [28:55<00:00, 16.22s/it, val_output_loss=21.4]\n"
     ]
    },
    {
     "name": "stdout",
     "output_type": "stream",
     "text": [
      "Epoch 112/100, Training Loss: 24.368551419905216, Validation Output Loss: 25.63149653639749\n"
     ]
    },
    {
     "name": "stderr",
     "output_type": "stream",
     "text": [
      "Epoch 113/100: 100%|██████████| 1854/1854 [37:48<00:00,  1.22s/it, loss=23.4]\n",
      "Epoch 113/100: 100%|██████████| 107/107 [04:16<00:00,  2.39s/it, val_output_loss=21.2]\n"
     ]
    },
    {
     "name": "stdout",
     "output_type": "stream",
     "text": [
      "Epoch 113/100, Training Loss: 24.333332490766704, Validation Output Loss: 25.209612552250658\n",
      "Best model saved with Validation Loss: 25.209612552250658\n"
     ]
    },
    {
     "name": "stderr",
     "output_type": "stream",
     "text": [
      "Epoch 114/100: 100%|██████████| 1854/1854 [37:50<00:00,  1.22s/it, loss=24.5]\n",
      "Epoch 114/100: 100%|██████████| 107/107 [23:38<00:00, 13.26s/it, val_output_loss=21.1]\n"
     ]
    },
    {
     "name": "stdout",
     "output_type": "stream",
     "text": [
      "Epoch 114/100, Training Loss: 24.304125432957854, Validation Output Loss: 25.174149682588666\n",
      "Best model saved with Validation Loss: 25.174149682588666\n"
     ]
    },
    {
     "name": "stderr",
     "output_type": "stream",
     "text": [
      "Epoch 115/100: 100%|██████████| 1854/1854 [37:48<00:00,  1.22s/it, loss=26.4]\n",
      "Epoch 115/100: 100%|██████████| 107/107 [04:05<00:00,  2.30s/it, val_output_loss=21.1]\n"
     ]
    },
    {
     "name": "stdout",
     "output_type": "stream",
     "text": [
      "Epoch 115/100, Training Loss: 24.28147390976693, Validation Output Loss: 25.172474745278045\n",
      "Best model saved with Validation Loss: 25.172474745278045\n"
     ]
    },
    {
     "name": "stderr",
     "output_type": "stream",
     "text": [
      "Epoch 116/100: 100%|██████████| 1854/1854 [37:50<00:00,  1.22s/it, loss=23.5]\n",
      "Epoch 116/100: 100%|██████████| 107/107 [04:08<00:00,  2.33s/it, val_output_loss=21.1]\n"
     ]
    },
    {
     "name": "stdout",
     "output_type": "stream",
     "text": [
      "Epoch 116/100, Training Loss: 24.237690032621547, Validation Output Loss: 25.10129862633821\n",
      "Best model saved with Validation Loss: 25.10129862633821\n"
     ]
    },
    {
     "name": "stderr",
     "output_type": "stream",
     "text": [
      "Epoch 117/100: 100%|██████████| 1854/1854 [37:47<00:00,  1.22s/it, loss=24.4]\n",
      "Epoch 117/100: 100%|██████████| 107/107 [06:24<00:00,  3.59s/it, val_output_loss=21.5]\n"
     ]
    },
    {
     "name": "stdout",
     "output_type": "stream",
     "text": [
      "Epoch 117/100, Training Loss: 24.22511747662689, Validation Output Loss: 25.313097837929412\n"
     ]
    },
    {
     "name": "stderr",
     "output_type": "stream",
     "text": [
      "Epoch 118/100: 100%|██████████| 1854/1854 [37:45<00:00,  1.22s/it, loss=23.7]\n",
      "Epoch 118/100: 100%|██████████| 107/107 [04:07<00:00,  2.31s/it, val_output_loss=21.1]\n"
     ]
    },
    {
     "name": "stdout",
     "output_type": "stream",
     "text": [
      "Epoch 118/100, Training Loss: 24.215876566939368, Validation Output Loss: 25.22891083833213\n"
     ]
    },
    {
     "name": "stderr",
     "output_type": "stream",
     "text": [
      "Epoch 119/100: 100%|██████████| 1854/1854 [37:49<00:00,  1.22s/it, loss=24.2]\n",
      "Epoch 119/100: 100%|██████████| 107/107 [03:58<00:00,  2.23s/it, val_output_loss=21.2]\n"
     ]
    },
    {
     "name": "stdout",
     "output_type": "stream",
     "text": [
      "Epoch 119/100, Training Loss: 24.177662195125443, Validation Output Loss: 25.51873237395955\n"
     ]
    },
    {
     "name": "stderr",
     "output_type": "stream",
     "text": [
      "Epoch 120/100: 100%|██████████| 1854/1854 [37:47<00:00,  1.22s/it, loss=25.5]\n",
      "Epoch 120/100: 100%|██████████| 107/107 [04:56<00:00,  2.78s/it, val_output_loss=20.9]\n"
     ]
    },
    {
     "name": "stdout",
     "output_type": "stream",
     "text": [
      "Epoch 120/100, Training Loss: 24.17807571736226, Validation Output Loss: 24.978333428641346\n",
      "Best model saved with Validation Loss: 24.978333428641346\n"
     ]
    },
    {
     "name": "stderr",
     "output_type": "stream",
     "text": [
      "Epoch 121/100: 100%|██████████| 1854/1854 [37:49<00:00,  1.22s/it, loss=23.6]\n",
      "Epoch 121/100: 100%|██████████| 107/107 [04:12<00:00,  2.36s/it, val_output_loss=21]  \n"
     ]
    },
    {
     "name": "stdout",
     "output_type": "stream",
     "text": [
      "Epoch 121/100, Training Loss: 24.133293692991057, Validation Output Loss: 25.18843911072918\n"
     ]
    },
    {
     "name": "stderr",
     "output_type": "stream",
     "text": [
      "Epoch 122/100: 100%|██████████| 1854/1854 [37:43<00:00,  1.22s/it, loss=25.5]\n",
      "Epoch 122/100: 100%|██████████| 107/107 [06:30<00:00,  3.65s/it, val_output_loss=20.8]\n"
     ]
    },
    {
     "name": "stdout",
     "output_type": "stream",
     "text": [
      "Epoch 122/100, Training Loss: 24.110359961418144, Validation Output Loss: 25.142096777942694\n"
     ]
    },
    {
     "name": "stderr",
     "output_type": "stream",
     "text": [
      "Epoch 123/100: 100%|██████████| 1854/1854 [37:44<00:00,  1.22s/it, loss=24.8]\n",
      "Epoch 123/100: 100%|██████████| 107/107 [15:10<00:00,  8.51s/it, val_output_loss=20.8]\n"
     ]
    },
    {
     "name": "stdout",
     "output_type": "stream",
     "text": [
      "Epoch 123/100, Training Loss: 24.092571034271998, Validation Output Loss: 24.961299789286105\n",
      "Best model saved with Validation Loss: 24.961299789286105\n"
     ]
    },
    {
     "name": "stderr",
     "output_type": "stream",
     "text": [
      "Epoch 124/100: 100%|██████████| 1854/1854 [37:51<00:00,  1.23s/it, loss=24.5]\n",
      "Epoch 124/100: 100%|██████████| 107/107 [03:44<00:00,  2.10s/it, val_output_loss=20.9]\n"
     ]
    },
    {
     "name": "stdout",
     "output_type": "stream",
     "text": [
      "Epoch 124/100, Training Loss: 24.072097862679854, Validation Output Loss: 25.25888074001419\n"
     ]
    },
    {
     "name": "stderr",
     "output_type": "stream",
     "text": [
      "Epoch 125/100: 100%|██████████| 1854/1854 [37:51<00:00,  1.23s/it, loss=23.1]\n",
      "Epoch 125/100: 100%|██████████| 107/107 [21:48<00:00, 12.23s/it, val_output_loss=20.9]\n"
     ]
    },
    {
     "name": "stdout",
     "output_type": "stream",
     "text": [
      "Epoch 125/100, Training Loss: 24.02655908282135, Validation Output Loss: 24.970621019880348\n"
     ]
    },
    {
     "name": "stderr",
     "output_type": "stream",
     "text": [
      "Epoch 126/100: 100%|██████████| 1854/1854 [37:46<00:00,  1.22s/it, loss=24.2]\n",
      "Epoch 126/100: 100%|██████████| 107/107 [03:42<00:00,  2.08s/it, val_output_loss=20.9]\n"
     ]
    },
    {
     "name": "stdout",
     "output_type": "stream",
     "text": [
      "Epoch 126/100, Training Loss: 24.024415136540977, Validation Output Loss: 24.952880431558484\n",
      "Best model saved with Validation Loss: 24.952880431558484\n"
     ]
    },
    {
     "name": "stderr",
     "output_type": "stream",
     "text": [
      "Epoch 127/100: 100%|██████████| 1854/1854 [37:48<00:00,  1.22s/it, loss=24.2]\n",
      "Epoch 127/100: 100%|██████████| 107/107 [11:14<00:00,  6.31s/it, val_output_loss=20.8]\n"
     ]
    },
    {
     "name": "stdout",
     "output_type": "stream",
     "text": [
      "Epoch 127/100, Training Loss: 23.9720379768709, Validation Output Loss: 24.83328097334532\n",
      "Best model saved with Validation Loss: 24.83328097334532\n"
     ]
    },
    {
     "name": "stderr",
     "output_type": "stream",
     "text": [
      "Epoch 128/100: 100%|██████████| 1854/1854 [47:23<00:00,  1.53s/it, loss=24.2]\n",
      "Epoch 128/100: 100%|██████████| 107/107 [03:44<00:00,  2.10s/it, val_output_loss=21.1]\n"
     ]
    },
    {
     "name": "stdout",
     "output_type": "stream",
     "text": [
      "Epoch 128/100, Training Loss: 23.96224641954243, Validation Output Loss: 25.022126081947967\n"
     ]
    },
    {
     "name": "stderr",
     "output_type": "stream",
     "text": [
      "Epoch 129/100: 100%|██████████| 1854/1854 [37:50<00:00,  1.22s/it, loss=23.1]\n",
      "Epoch 129/100: 100%|██████████| 107/107 [16:13<00:00,  9.10s/it, val_output_loss=21.1]\n"
     ]
    },
    {
     "name": "stdout",
     "output_type": "stream",
     "text": [
      "Epoch 129/100, Training Loss: 23.92922323961474, Validation Output Loss: 24.95506498746783\n"
     ]
    },
    {
     "name": "stderr",
     "output_type": "stream",
     "text": [
      "Epoch 130/100: 100%|██████████| 1854/1854 [37:38<00:00,  1.22s/it, loss=23.8]\n",
      "Epoch 130/100: 100%|██████████| 107/107 [03:46<00:00,  2.11s/it, val_output_loss=21.2]\n"
     ]
    },
    {
     "name": "stdout",
     "output_type": "stream",
     "text": [
      "Epoch 130/100, Training Loss: 23.90055498104651, Validation Output Loss: 25.001560282484395\n"
     ]
    },
    {
     "name": "stderr",
     "output_type": "stream",
     "text": [
      "Epoch 131/100: 100%|██████████| 1854/1854 [37:45<00:00,  1.22s/it, loss=23]  \n",
      "Epoch 131/100: 100%|██████████| 107/107 [05:19<00:00,  2.99s/it, val_output_loss=21.3]\n"
     ]
    },
    {
     "name": "stdout",
     "output_type": "stream",
     "text": [
      "Epoch 131/100, Training Loss: 23.905713673934194, Validation Output Loss: 25.110908633080598\n"
     ]
    },
    {
     "name": "stderr",
     "output_type": "stream",
     "text": [
      "Epoch 132/100: 100%|██████████| 1854/1854 [37:46<00:00,  1.22s/it, loss=23.4]\n",
      "Epoch 132/100: 100%|██████████| 107/107 [03:41<00:00,  2.07s/it, val_output_loss=20.8]\n"
     ]
    },
    {
     "name": "stdout",
     "output_type": "stream",
     "text": [
      "Epoch 132/100, Training Loss: 23.85641071891579, Validation Output Loss: 24.779938528470904\n",
      "Best model saved with Validation Loss: 24.779938528470904\n"
     ]
    },
    {
     "name": "stderr",
     "output_type": "stream",
     "text": [
      "Epoch 133/100: 100%|██████████| 1854/1854 [37:46<00:00,  1.22s/it, loss=23.7]\n",
      "Epoch 133/100: 100%|██████████| 107/107 [03:42<00:00,  2.08s/it, val_output_loss=20.9]\n"
     ]
    },
    {
     "name": "stdout",
     "output_type": "stream",
     "text": [
      "Epoch 133/100, Training Loss: 23.834262741936577, Validation Output Loss: 24.79242524476809\n"
     ]
    },
    {
     "name": "stderr",
     "output_type": "stream",
     "text": [
      "Epoch 134/100: 100%|██████████| 1854/1854 [37:48<00:00,  1.22s/it, loss=23]  \n",
      "Epoch 134/100: 100%|██████████| 107/107 [03:48<00:00,  2.13s/it, val_output_loss=21.2]\n"
     ]
    },
    {
     "name": "stdout",
     "output_type": "stream",
     "text": [
      "Epoch 134/100, Training Loss: 23.837216879300442, Validation Output Loss: 25.12318702056029\n"
     ]
    },
    {
     "name": "stderr",
     "output_type": "stream",
     "text": [
      "Epoch 135/100: 100%|██████████| 1854/1854 [37:45<00:00,  1.22s/it, loss=23]  \n",
      "Epoch 135/100: 100%|██████████| 107/107 [03:46<00:00,  2.11s/it, val_output_loss=20.8]\n"
     ]
    },
    {
     "name": "stdout",
     "output_type": "stream",
     "text": [
      "Epoch 135/100, Training Loss: 23.797451661242636, Validation Output Loss: 24.862981528879327\n"
     ]
    },
    {
     "name": "stderr",
     "output_type": "stream",
     "text": [
      "Epoch 136/100: 100%|██████████| 1854/1854 [37:42<00:00,  1.22s/it, loss=22.9]\n",
      "Epoch 136/100: 100%|██████████| 107/107 [14:16<00:00,  8.01s/it, val_output_loss=20.7]\n"
     ]
    },
    {
     "name": "stdout",
     "output_type": "stream",
     "text": [
      "Epoch 136/100, Training Loss: 23.801884306544498, Validation Output Loss: 24.859201163889093\n"
     ]
    },
    {
     "name": "stderr",
     "output_type": "stream",
     "text": [
      "Epoch 137/100: 100%|██████████| 1854/1854 [37:41<00:00,  1.22s/it, loss=23.7]\n",
      "Epoch 137/100: 100%|██████████| 107/107 [03:44<00:00,  2.09s/it, val_output_loss=20.7]\n"
     ]
    },
    {
     "name": "stdout",
     "output_type": "stream",
     "text": [
      "Epoch 137/100, Training Loss: 23.771040262142044, Validation Output Loss: 24.669799947293004\n",
      "Best model saved with Validation Loss: 24.669799947293004\n"
     ]
    },
    {
     "name": "stderr",
     "output_type": "stream",
     "text": [
      "Epoch 138/100: 100%|██████████| 1854/1854 [37:45<00:00,  1.22s/it, loss=24.4]\n",
      "Epoch 138/100: 100%|██████████| 107/107 [17:18<00:00,  9.70s/it, val_output_loss=20.8]\n"
     ]
    },
    {
     "name": "stdout",
     "output_type": "stream",
     "text": [
      "Epoch 138/100, Training Loss: 23.770501649109676, Validation Output Loss: 24.78978224781072\n"
     ]
    },
    {
     "name": "stderr",
     "output_type": "stream",
     "text": [
      "Epoch 139/100: 100%|██████████| 1854/1854 [37:45<00:00,  1.22s/it, loss=24.3]\n",
      "Epoch 139/100: 100%|██████████| 107/107 [03:47<00:00,  2.12s/it, val_output_loss=20.6]\n"
     ]
    },
    {
     "name": "stdout",
     "output_type": "stream",
     "text": [
      "Epoch 139/100, Training Loss: 23.70378204045301, Validation Output Loss: 24.727574250408423\n"
     ]
    },
    {
     "name": "stderr",
     "output_type": "stream",
     "text": [
      "Epoch 140/100: 100%|██████████| 1854/1854 [37:38<00:00,  1.22s/it, loss=23.4]\n",
      "Epoch 140/100: 100%|██████████| 107/107 [14:20<00:00,  8.04s/it, val_output_loss=20.6]\n"
     ]
    },
    {
     "name": "stdout",
     "output_type": "stream",
     "text": [
      "Epoch 140/100, Training Loss: 23.717449664555193, Validation Output Loss: 24.771317544384537\n"
     ]
    },
    {
     "name": "stderr",
     "output_type": "stream",
     "text": [
      "Epoch 141/100: 100%|██████████| 1854/1854 [37:38<00:00,  1.22s/it, loss=24.2]\n",
      "Epoch 141/100: 100%|██████████| 107/107 [03:46<00:00,  2.12s/it, val_output_loss=20.6]\n"
     ]
    },
    {
     "name": "stdout",
     "output_type": "stream",
     "text": [
      "Epoch 141/100, Training Loss: 23.68455441175541, Validation Output Loss: 24.758121757863837\n"
     ]
    },
    {
     "name": "stderr",
     "output_type": "stream",
     "text": [
      "Epoch 142/100: 100%|██████████| 1854/1854 [37:40<00:00,  1.22s/it, loss=23.2]\n",
      "Epoch 142/100: 100%|██████████| 107/107 [03:43<00:00,  2.09s/it, val_output_loss=20.8]\n"
     ]
    },
    {
     "name": "stdout",
     "output_type": "stream",
     "text": [
      "Epoch 142/100, Training Loss: 23.67582198125516, Validation Output Loss: 24.792328647363966\n"
     ]
    },
    {
     "name": "stderr",
     "output_type": "stream",
     "text": [
      "Epoch 143/100: 100%|██████████| 1854/1854 [37:45<00:00,  1.22s/it, loss=24.6]\n",
      "Epoch 143/100: 100%|██████████| 107/107 [03:41<00:00,  2.07s/it, val_output_loss=20.8]\n"
     ]
    },
    {
     "name": "stdout",
     "output_type": "stream",
     "text": [
      "Epoch 143/100, Training Loss: 23.643088464212262, Validation Output Loss: 24.75506716576692\n"
     ]
    },
    {
     "name": "stderr",
     "output_type": "stream",
     "text": [
      "Epoch 144/100: 100%|██████████| 1854/1854 [37:49<00:00,  1.22s/it, loss=22.8]\n",
      "Epoch 144/100: 100%|██████████| 107/107 [04:08<00:00,  2.32s/it, val_output_loss=20.7]\n"
     ]
    },
    {
     "name": "stdout",
     "output_type": "stream",
     "text": [
      "Epoch 144/100, Training Loss: 23.618085611213758, Validation Output Loss: 24.808397988292658\n"
     ]
    },
    {
     "name": "stderr",
     "output_type": "stream",
     "text": [
      "Epoch 145/100: 100%|██████████| 1854/1854 [37:49<00:00,  1.22s/it, loss=23.6]\n",
      "Epoch 145/100: 100%|██████████| 107/107 [03:44<00:00,  2.10s/it, val_output_loss=20.6]\n"
     ]
    },
    {
     "name": "stdout",
     "output_type": "stream",
     "text": [
      "Epoch 145/100, Training Loss: 23.614116694420545, Validation Output Loss: 24.65931348711531\n",
      "Best model saved with Validation Loss: 24.65931348711531\n"
     ]
    },
    {
     "name": "stderr",
     "output_type": "stream",
     "text": [
      "Epoch 146/100: 100%|██████████| 1854/1854 [37:47<00:00,  1.22s/it, loss=24.5]\n",
      "Epoch 146/100: 100%|██████████| 107/107 [03:46<00:00,  2.12s/it, val_output_loss=20.5]\n"
     ]
    },
    {
     "name": "stdout",
     "output_type": "stream",
     "text": [
      "Epoch 146/100, Training Loss: 23.539283362535727, Validation Output Loss: 24.458631533328617\n",
      "Best model saved with Validation Loss: 24.458631533328617\n"
     ]
    },
    {
     "name": "stderr",
     "output_type": "stream",
     "text": [
      "Epoch 147/100: 100%|██████████| 1854/1854 [37:47<00:00,  1.22s/it, loss=24.2]\n",
      "Epoch 147/100: 100%|██████████| 107/107 [07:23<00:00,  4.14s/it, val_output_loss=20.4]\n"
     ]
    },
    {
     "name": "stdout",
     "output_type": "stream",
     "text": [
      "Epoch 147/100, Training Loss: 23.557152218288845, Validation Output Loss: 24.54030700041869\n"
     ]
    },
    {
     "name": "stderr",
     "output_type": "stream",
     "text": [
      "Epoch 148/100: 100%|██████████| 1854/1854 [37:47<00:00,  1.22s/it, loss=23.8]\n",
      "Epoch 148/100: 100%|██████████| 107/107 [03:43<00:00,  2.09s/it, val_output_loss=20.4]\n"
     ]
    },
    {
     "name": "stdout",
     "output_type": "stream",
     "text": [
      "Epoch 148/100, Training Loss: 23.517534941145517, Validation Output Loss: 24.486980901700313\n"
     ]
    },
    {
     "name": "stderr",
     "output_type": "stream",
     "text": [
      "Epoch 149/100: 100%|██████████| 1854/1854 [37:45<00:00,  1.22s/it, loss=24.5]\n",
      "Epoch 149/100: 100%|██████████| 107/107 [21:25<00:00, 12.01s/it, val_output_loss=20.4]\n"
     ]
    },
    {
     "name": "stdout",
     "output_type": "stream",
     "text": [
      "Epoch 149/100, Training Loss: 23.492402753655064, Validation Output Loss: 24.544836507779415\n"
     ]
    },
    {
     "name": "stderr",
     "output_type": "stream",
     "text": [
      "Epoch 150/100: 100%|██████████| 1854/1854 [37:47<00:00,  1.22s/it, loss=23.8]\n",
      "Epoch 150/100: 100%|██████████| 107/107 [03:44<00:00,  2.10s/it, val_output_loss=20.3]\n"
     ]
    },
    {
     "name": "stdout",
     "output_type": "stream",
     "text": [
      "Epoch 150/100, Training Loss: 23.485481850666265, Validation Output Loss: 24.431181114410684\n",
      "Best model saved with Validation Loss: 24.431181114410684\n"
     ]
    }
   ],
   "source": [
    "# optimizer = optim.Adam(student_model.parameters(), lr=1e4)\n",
    "optimizer = build_optimizer(config, student_model)\n",
    "mse_loss = nn.MSELoss()\n",
    "# 学习率优化器\n",
    "lr_scheduler = build_scheduler(config, optimizer, len(train_data_loader))\n",
    "scaler = torch.cuda.amp.GradScaler()\n",
    "\n",
    "# 假设已经定义了 dataloader，并且数据无标签\n",
    "epochs = args.train_epochs  # 设置训练的 epoch 数\n",
    "best_loss = math.inf\n",
    "path = \"/homec/xiaolei/projects/ReID/weights/student_model_base6_strong_reid_mmd_mse_loss\"\n",
    "create_directory_if_not_exists(path)\n",
    "\n",
    "# 训练学生模型（无监督）\n",
    "for epoch in range(50, 50 + epochs):\n",
    "    student_model.train() \n",
    "    optimizer.zero_grad()\n",
    "    num_steps = len(train_data_loader)\n",
    "    train_loss = []\n",
    "    \n",
    "    # 可视化进度条\n",
    "    with tqdm(total=len(train_data_loader), desc=f\"Epoch {epoch + 1}/{args.train_epochs}\") as pbar:\n",
    "        # 将数据送入模型进行训练\n",
    "        for idx, person_image_bs in enumerate(train_data_loader):\n",
    "            optimizer.zero_grad()\n",
    "            # person_image_bs = torch.cat((person_image_bs[0], person_image_bs[1]), dim=0)\n",
    "            if not isinstance(person_image_bs, torch.Tensor):\n",
    "                person_image_bs = torch.stack(person_image_bs)\n",
    "            # print(f'person_image_bs: {person_image_bs.shape}')\n",
    "            # continue\n",
    "            person_image_bs = person_image_bs.to(device)\n",
    "            # print(type(person_image_bss))\n",
    "            # 通过教师print(f'x: {x.shape}')模型和学生模型获取输出特征\n",
    "            with torch.cuda.amp.autocast():\n",
    "                with torch.no_grad():  # 教师模型保持冻结状态\n",
    "                    teacher_features = teacher_model.extract_feat(person_image_bs)\n",
    "                    teacher_output = teacher_model(person_image_bs)\n",
    "\n",
    "                student_features = student_model.extract_feat(person_image_bs)\n",
    "                student_output = student_model(person_image_bs)\n",
    "                \n",
    "                s_loss['ori_loss'] = cosine_similarity_loss(student_output, teacher_output, 1.0)\n",
    "                s_loss['mmd_loss'] = mmd_loss(student_output, teacher_output)\n",
    "                s_loss['mse_loss'] = mse_loss_project(student_features, teacher_features)\n",
    "\n",
    "                loss = s_loss['ori_loss'] + s_loss['mmd_loss'] + s_loss['mse_loss']\n",
    "                train_loss.append(loss.item())\n",
    "    \n",
    "            # 反向传播并更新学生模型参数\n",
    "            # optimizer.zero_grad()\n",
    "            # loss.backward()\n",
    "            # optimizer.step()\n",
    "            scaler.scale(loss).backward()\n",
    "            scaler.step(optimizer)\n",
    "            scaler.update()\n",
    "            lr_scheduler.step_update(epoch * num_steps + idx)\n",
    "\n",
    "            # 更新进度条\n",
    "            pbar.set_postfix({'loss': loss.item()})\n",
    "            pbar.update(1)\n",
    "        \n",
    "        train_loss_avg = np.average(train_loss)\n",
    "        if epoch % 10 == 0:\n",
    "            torch.save(student_model.state_dict(), path + '/' + f'checkpoint_{epoch}_{train_loss_avg}.pth')\n",
    "    \n",
    "    # 验证阶段\n",
    "    student_model.eval()\n",
    "    val_output_loss = []\n",
    "    val_feature_loss = []\n",
    "    with tqdm(total=len(valid_data_loader), desc=f\"Epoch {epoch + 1}/{args.train_epochs}\") as pbar:\n",
    "        with torch.no_grad():\n",
    "             for person_image_bs in valid_data_loader:\n",
    "                # person_image_bs = torch.cat((person_image_bs[0], person_image_bs[1]), dim=0)\n",
    "                if not isinstance(person_image_bs, torch.Tensor):\n",
    "                    person_image_bs = torch.stack(person_image_bs)\n",
    "                # print(f'person_image_bs: {person_image_bs.shape}')\n",
    "                # continue\n",
    "                person_image_bs = person_image_bs.to(device)\n",
    "                # 教师\n",
    "                teacher_features = teacher_model.extract_feat(person_image_bs)\n",
    "                teacher_output = teacher_model(person_image_bs)\n",
    "                # 学生\n",
    "                student_features = student_model.extract_feat(person_image_bs)\n",
    "                student_output = student_model(person_image_bs)\n",
    "                \n",
    "                s_loss['ori_loss'] = cosine_similarity_loss(student_output, teacher_output, 1.0)\n",
    "                s_loss['mmd_loss'] = mmd_loss(student_output, teacher_output)\n",
    "                s_loss['mse_loss'] = mse_loss_project(student_features, teacher_features)\n",
    "\n",
    "                output_loss = s_loss['ori_loss'] + s_loss['mmd_loss'] + s_loss['mse_loss']\n",
    "                val_output_loss.append(output_loss.item())\n",
    "\n",
    "                # 更新进度条\n",
    "                pbar.set_postfix({'val_output_loss': output_loss.item()})\n",
    "                pbar.update(1)\n",
    "\n",
    "        val_output_loss_avg = np.average(val_output_loss)  # 计算平均验证损失\n",
    "        print(f'Epoch {epoch+1}/{epochs}, Training Loss: {train_loss_avg}, Validation Output Loss: {val_output_loss_avg}')\n",
    "\n",
    "    # 保存最优的学生模型\n",
    "    if val_output_loss_avg < best_loss:\n",
    "        best_loss = val_output_loss_avg\n",
    "        temp_best_model_path = os.path.join(path, f\"best_student_model.pth\")\n",
    "        torch.save(student_model.state_dict(), temp_best_model_path)\n",
    "        print(f'Best model saved with Validation Loss: {best_loss}')\n",
    "\n",
    "# 保存训练好的学生模型\n",
    "best_model_path = os.path.join(path, \"student_model.pth\")\n",
    "torch.save(student_model.state_dict(), best_model_path)"
   ]
  },
  {
   "cell_type": "code",
   "execution_count": null,
   "id": "7968258f-2363-44ec-b2cd-39f36efa687b",
   "metadata": {
    "scrolled": true
   },
   "outputs": [],
   "source": [
    "import torch\n",
    "import torch.nn as nn\n",
    "import timm\n",
    "\n",
    "device = torch.device('cuda:0' if torch.cuda.is_available() else 'cpu')\n",
    "\n",
    "swin_model = SwinTransformerTeacher()\n",
    "swin_model = swin_model.to(device)\n",
    "res_model = ResNetStudent()\n",
    "res_model = res_model.to(device)\n",
    "\n",
    "swin_features = swin_model.extract_feat(torch.randn(1, 3, 224, 224).to(device))\n",
    "res_features = res_model.extract_feat(torch.randn(1, 3, 224, 224).to(device))\n",
    "\n",
    "for swin_feature in swin_features:\n",
    "    print(swin_feature.shape)\n",
    "print('='*100)\n",
    "for res_feature in res_features:\n",
    "    print(res_feature.shape)\n",
    "\n",
    "print(res_model(torch.randn(1, 3, 224, 224).to(device)).shape)"
   ]
  },
  {
   "cell_type": "code",
   "execution_count": null,
   "id": "c3511fa6-783e-4c50-8130-55e45702c06e",
   "metadata": {},
   "outputs": [],
   "source": []
  }
 ],
 "metadata": {
  "kernelspec": {
   "display_name": "Python [conda env:openmmlab]",
   "language": "python",
   "name": "conda-env-openmmlab-py"
  },
  "language_info": {
   "codemirror_mode": {
    "name": "ipython",
    "version": 3
   },
   "file_extension": ".py",
   "mimetype": "text/x-python",
   "name": "python",
   "nbconvert_exporter": "python",
   "pygments_lexer": "ipython3",
   "version": "3.8.20"
  }
 },
 "nbformat": 4,
 "nbformat_minor": 5
}
